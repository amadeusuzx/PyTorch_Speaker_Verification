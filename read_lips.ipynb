{
 "cells": [
  {
   "cell_type": "code",
   "execution_count": 14,
   "metadata": {},
   "outputs": [],
   "source": [
    "from glob import glob\n",
    "import numpy as np\n",
    "import cv2"
   ]
  },
  {
   "cell_type": "code",
   "execution_count": 20,
   "metadata": {},
   "outputs": [],
   "source": [
    "commands = [\"black\",\"cancel\",\"centeralign\",\"copy\",\"large\",\"medium\",\"newslide\",\"paste\",\"red\",\"textbox\"]\n",
    "def crop(buffer, clip_len):\n",
    "    # randomly select time index for temporal jittering\n",
    "    time_index = np.random.randint(buffer.shape[0] - clip_len)\n",
    "    # randomly select start indices in order to crop the video\n",
    "\n",
    "    # crop and jitter the video using indexing. The spatial crop is performed on \n",
    "    # the entire array, so each frame is cropped in the same location. The temporal\n",
    "    # jitter takes place via the selection of consecutive frames\n",
    "    buffer = buffer[:,time_index:time_index + clip_len,:,:]\n",
    "\n",
    "    return buffer   "
   ]
  },
  {
   "cell_type": "code",
   "execution_count": 21,
   "metadata": {
    "tags": []
   },
   "outputs": [
    {
     "output_type": "error",
     "ename": "IndentationError",
     "evalue": "unexpected indent (<ipython-input-21-f60ac35e26a9>, line 7)",
     "traceback": [
      "\u001b[0;36m  File \u001b[0;32m\"<ipython-input-21-f60ac35e26a9>\"\u001b[0;36m, line \u001b[0;32m7\u001b[0m\n\u001b[0;31m    if frame_count>32:\u001b[0m\n\u001b[0m    ^\u001b[0m\n\u001b[0;31mIndentationError\u001b[0m\u001b[0;31m:\u001b[0m unexpected indent\n"
     ]
    }
   ],
   "source": [
    "dataset = dict()\n",
    "for c in commands:\n",
    "    dataset[c] = []\n",
    "    for f in sorted(glob(\"./100/train/\"+c+\"/*\")):\n",
    "        capture = cv2.VideoCapture(f)\n",
    "        frame_count = int(capture.get(cv2.CAP_PROP_FRAME_COUNT))\n",
    "        if frame_count>32:\n",
    "            buffer = []\n",
    "            count = 0\n",
    "            retaining = True\n",
    "            # read in each frame, one at a time into the numpy buffer array\n",
    "            while (count < frame_count and retaining):\n",
    "                retaining, frame = capture.read()\n",
    "                frame = cv2.cvtColor(frame, cv2.COLOR_BGR2RGB)\n",
    "                buffer[count] = frame\n",
    "                count += 1\n",
    "            buffer = crop(buffer,32)\n",
    "            dataset[c].append(frames)"
   ]
  },
  {
   "cell_type": "code",
   "execution_count": 8,
   "metadata": {},
   "outputs": [],
   "source": [
    "tr_path=\"/Users/soshiyuu/Devlopment/Github/amad/PyTorch_Speaker_Verification/train_tisv/\"\n",
    "ts_path=\"/Users/soshiyuu/Devlopment/Github/amad/PyTorch_Speaker_Verification/test_tisv/\"\n",
    "i=0\n",
    "for c in commands:\n",
    "    i+=1\n",
    "    np.save(tr_path+\"speaker%d\"%i,np.stack(dataset[c][:27]))\n",
    "    np.save(ts_path+\"speaker%d\"%i,np.stack(dataset[c][27:]))"
   ]
  },
  {
   "cell_type": "code",
   "execution_count": 16,
   "metadata": {
    "tags": []
   },
   "outputs": [
    {
     "output_type": "stream",
     "name": "stdout",
     "text": "(27, 70, 80)\n"
    }
   ],
   "source": [
    "print(np.stack(dataset[c][:27]).shape)"
   ]
  },
  {
   "cell_type": "code",
   "execution_count": 13,
   "metadata": {},
   "outputs": [],
   "source": [
    "for c in commands:\n",
    "    for i in range(len(dataset[c])):\n",
    "        dataset[c][i] = np.resize(np.array(dataset[c][i]),(70,80))\n"
   ]
  },
  {
   "cell_type": "code",
   "execution_count": 25,
   "metadata": {},
   "outputs": [
    {
     "output_type": "execute_result",
     "data": {
      "text/plain": "['.DS_Store',\n 'speaker8.npy',\n 'speaker9.npy',\n 'speaker10.npy',\n 'speaker4.npy',\n 'speaker5.npy',\n 'speaker7.npy',\n 'speaker6.npy',\n 'speaker2.npy',\n 'speaker3.npy',\n 'speaker1.npy']"
     },
     "metadata": {},
     "execution_count": 25
    }
   ],
   "source": [
    "os.listdir(tr_path)\n"
   ]
  },
  {
   "cell_type": "code",
   "execution_count": 11,
   "metadata": {},
   "outputs": [
    {
     "output_type": "execute_result",
     "data": {
      "text/plain": "['large-21.avi',\n 'red-85.avi',\n 'red-91.avi',\n 'large-35.avi',\n 'paste-13.avi',\n 'cancel-93.avi',\n 'cancel-44.avi',\n 'red-46.avi',\n 'red-52.avi',\n 'black-6.avi',\n 'cancel-50.avi',\n 'red-100.avi',\n 'textbox-22.avi',\n 'cancel-78.avi',\n 'textbox-36.avi',\n 'black-83.avi',\n 'medium-23.avi',\n 'centeralign-16.avi',\n 'black-40.avi',\n 'black-54.avi',\n 'black-68.avi',\n 'copy-52.avi',\n 'copy-46.avi',\n 'medium-100.avi',\n 'copy-91.avi',\n 'medium-1.avi',\n 'copy-85.avi',\n 'newslide-100.avi',\n 'newslide-74.avi',\n 'newslide-60.avi',\n 'cancel-5.avi',\n 'newslide-48.avi',\n 'newslide-49.avi',\n 'newslide-61.avi',\n 'cancel-4.avi',\n 'textbox-100.avi',\n 'newslide-75.avi',\n 'copy-84.avi',\n 'copy-90.avi',\n 'copy-53.avi',\n 'black-69.avi',\n 'black-55.avi',\n 'copy-1.avi',\n 'black-41.avi',\n 'medium-36.avi',\n 'black-96.avi',\n 'black-82.avi',\n 'medium-22.avi',\n 'cancel-79.avi',\n 'textbox-23.avi',\n 'red-53.avi',\n 'cancel-51.avi',\n 'cancel-45.avi',\n 'paste-12.avi',\n 'large-34.avi',\n 'red-90.avi',\n 'cancel-92.avi',\n 'cancel-86.avi',\n 'red-84.avi',\n 'large-20.avi',\n 'cancel-90.avi',\n 'red-92.avi',\n 'large-36.avi',\n 'paste-10.avi',\n 'large-22.avi',\n 'red-86.avi',\n 'cancel-84.avi',\n 'paste-38.avi',\n 'cancel-53.avi',\n 'red-51.avi',\n 'black-5.avi',\n 'red-45.avi',\n 'textbox-35.avi',\n 'red-79.avi',\n 'textbox-21.avi',\n 'black-94.avi',\n 'medium-34.avi',\n 'medium-20.avi',\n 'black-80.avi',\n 'centeralign-29.avi',\n 'centeralign-15.avi',\n 'copy-3.avi',\n 'black-43.avi',\n 'copy-45.avi',\n 'copy-51.avi',\n 'copy-79.avi',\n 'copy-86.avi',\n 'medium-2.avi',\n 'copy-92.avi',\n 'newslide-88.avi',\n 'cancel-6.avi',\n 'newslide-63.avi',\n 'newslide-76.avi',\n 'newslide-62.avi',\n 'newslide-89.avi',\n 'copy-93.avi',\n 'medium-3.avi',\n 'copy-78.avi',\n 'copy-50.avi',\n 'copy-44.avi',\n 'black-42.avi',\n 'copy-2.avi',\n 'black-56.avi',\n 'centeralign-14.avi',\n 'medium-21.avi',\n 'black-81.avi',\n 'centeralign-28.avi',\n 'black-95.avi',\n 'medium-35.avi',\n 'red-78.avi',\n 'textbox-20.avi',\n 'textbox-34.avi',\n 'red-44.avi',\n 'cancel-46.avi',\n 'cancel-52.avi',\n 'black-4.avi',\n 'red-50.avi',\n 'paste-39.avi',\n 'large-23.avi',\n 'cancel-85.avi',\n 'cancel-91.avi',\n 'paste-11.avi',\n 'red-93.avi',\n 'paste-29.avi',\n 'paste-15.avi',\n 'large-33.avi',\n 'cancel-95.avi',\n 'cancel-81.avi',\n 'red-83.avi',\n 'red-68.avi',\n 'textbox-30.avi',\n 'textbox-24.avi',\n 'red-54.avi',\n 'cancel-56.avi',\n 'cancel-42.avi',\n 'textbox-18.avi',\n 'paste-8.avi',\n 'red-40.avi',\n 'centeralign-10.avi',\n 'medium-19.avi',\n 'medium-31.avi',\n 'black-91.avi',\n 'centeralign-38.avi',\n 'black-85.avi',\n 'medium-25.avi',\n 'black-52.avi',\n 'copy-6.avi',\n 'black-46.avi',\n 'centeralign-8.avi',\n 'copy-68.avi',\n 'copy-40.avi',\n 'copy-54.avi',\n 'copy-83.avi',\n 'newslide-99.avi',\n '.DS_Store',\n 'newslide-66.avi',\n 'cancel-3.avi',\n 'newslide-72.avi',\n 'newslide-73.avi',\n 'cancel-2.avi',\n 'newslide-98.avi',\n 'copy-96.avi',\n 'medium-6.avi',\n 'copy-82.avi',\n 'copy-55.avi',\n 'copy-41.avi',\n 'copy-69.avi',\n 'centeralign-9.avi',\n 'black-53.avi',\n 'black-84.avi',\n 'medium-24.avi',\n 'medium-30.avi',\n 'black-90.avi',\n 'centeralign-39.avi',\n 'centeralign-11.avi',\n 'medium-18.avi',\n 'textbox-19.avi',\n 'paste-9.avi',\n 'cancel-43.avi',\n 'red-41.avi',\n 'black-1.avi',\n 'red-55.avi',\n 'textbox-25.avi',\n 'red-69.avi',\n 'textbox-31.avi',\n 'cancel-80.avi',\n 'red-82.avi',\n 'large-26.avi',\n 'large-32.avi',\n 'red-96.avi',\n 'paste-14.avi',\n 'cancel-94.avi',\n 'paste-28.avi',\n 'large-18.avi',\n 'large-100.avi',\n 'large-24.avi',\n 'red-80.avi',\n 'cancel-82.avi',\n 'cancel-96.avi',\n 'paste-16.avi',\n 'red-94.avi',\n 'large-30.avi',\n 'cancel-69.avi',\n 'textbox-33.avi',\n 'red-43.avi',\n 'cancel-41.avi',\n 'cancel-55.avi',\n 'black-3.avi',\n 'centeralign-13.avi',\n 'medium-26.avi',\n 'black-86.avi',\n 'black-92.avi',\n 'medium-32.avi',\n 'black-79.avi',\n 'black-45.avi',\n 'copy-5.avi',\n 'black-51.avi',\n 'copy-43.avi',\n 'copy-94.avi',\n 'medium-4.avi',\n 'copy-80.avi',\n 'newslide-59.avi',\n 'newslide-71.avi',\n 'newslide-65.avi',\n 'cancel-1.avi',\n 'newslide-64.avi',\n 'newslide-70.avi',\n 'newslide-58.avi',\n 'copy-81.avi',\n 'medium-5.avi',\n 'copy-95.avi',\n 'copy-42.avi',\n 'copy-56.avi',\n 'copy-4.avi',\n 'black-50.avi',\n 'black-44.avi',\n 'black-78.avi',\n 'black-93.avi',\n 'medium-33.avi',\n 'centeralign-12.avi',\n 'cancel-54.avi',\n 'black-2.avi',\n 'red-56.avi',\n 'red-42.avi',\n 'cancel-40.avi',\n 'textbox-32.avi',\n 'cancel-68.avi',\n 'textbox-26.avi',\n 'large-31.avi',\n 'red-95.avi',\n 'red-81.avi',\n 'large-25.avi',\n 'cancel-83.avi',\n 'large-19.avi',\n 'large-42.avi',\n 'paste-64.avi',\n 'large-56.avi',\n 'paste-70.avi',\n 'paste-58.avi',\n 'textbox-82.avi',\n 'textbox-96.avi',\n 'red-25.avi',\n 'large-81.avi',\n 'cancel-33.avi',\n 'textbox-69.avi',\n 'large-95.avi',\n 'red-31.avi',\n 'red-19.avi',\n 'textbox-41.avi',\n 'textbox-55.avi',\n 'medium-40.avi',\n 'centeralign-49.avi',\n 'medium-54.avi',\n 'centeralign-75.avi',\n 'centeralign-61.avi',\n 'medium-68.avi',\n 'black-23.avi',\n 'medium-83.avi',\n 'newslide-6.avi',\n 'copy-31.avi',\n 'copy-25.avi',\n 'copy-19.avi',\n 'newslide-16.avi',\n 'copy-18.avi',\n 'copy-24.avi',\n 'copy-30.avi',\n 'paste-100.avi',\n 'medium-96.avi',\n 'black-36.avi',\n 'black-22.avi',\n 'medium-82.avi',\n 'centeralign-60.avi',\n 'medium-69.avi',\n 'centeralign-74.avi',\n 'medium-55.avi',\n 'medium-41.avi',\n 'centeralign-48.avi',\n 'textbox-54.avi',\n 'red-18.avi',\n 'textbox-40.avi',\n 'textbox-68.avi',\n 'cancel-32.avi',\n 'red-30.avi',\n 'large-94.avi',\n 'large-80.avi',\n 'red-24.avi',\n 'cancel-26.avi',\n 'centeralign-100.avi',\n 'paste-59.avi',\n 'textbox-83.avi',\n 'paste-71.avi',\n 'paste-65.avi',\n 'large-43.avi',\n 'large-55.avi',\n 'paste-73.avi',\n 'large-41.avi',\n 'large-69.avi',\n 'textbox-95.avi',\n 'textbox-81.avi',\n 'large-96.avi',\n 'red-32.avi',\n 'cancel-30.avi',\n 'cancel-24.avi',\n 'red-26.avi',\n 'large-82.avi',\n 'textbox-56.avi',\n 'cancel-18.avi',\n 'textbox-42.avi',\n 'paste-98.avi',\n 'medium-43.avi',\n 'centeralign-62.avi',\n 'centeralign-76.avi',\n 'black-34.avi',\n 'medium-94.avi',\n 'centeralign-89.avi',\n 'medium-80.avi',\n 'black-20.avi',\n 'newslide-5.avi',\n 'copy-26.avi',\n 'copy-32.avi',\n 'newslide-14.avi',\n 'newslide-28.avi',\n 'newslide-29.avi',\n 'newslide-15.avi',\n 'copy-33.avi',\n 'newslide-4.avi',\n 'centeralign-88.avi',\n 'medium-81.avi',\n 'black-21.avi',\n 'black-35.avi',\n 'medium-95.avi',\n 'centeralign-63.avi',\n 'medium-42.avi',\n 'medium-56.avi',\n 'textbox-43.avi',\n 'cancel-19.avi',\n 'paste-99.avi',\n 'cancel-25.avi',\n 'large-83.avi',\n 'red-33.avi',\n 'cancel-31.avi',\n 'textbox-80.avi',\n 'large-68.avi',\n 'textbox-94.avi',\n 'paste-66.avi',\n 'large-40.avi',\n 'paste-72.avi',\n 'large-54.avi',\n 'large-8.avi',\n 'textbox-90.avi',\n 'large-78.avi',\n 'textbox-84.avi',\n 'red-8.avi',\n 'paste-76.avi',\n 'large-50.avi',\n 'paste-62.avi',\n 'large-44.avi',\n 'textbox-53.avi',\n 'paste-89.avi',\n 'cancel-35.avi',\n 'large-93.avi',\n 'red-23.avi',\n 'cancel-21.avi',\n 'centeralign-73.avi',\n 'medium-52.avi',\n 'medium-46.avi',\n 'black-19.avi',\n 'centeralign-98.avi',\n 'medium-91.avi',\n 'black-31.avi',\n 'black-25.avi',\n 'medium-85.avi',\n 'copy-23.avi',\n 'textbox-9.avi',\n 'newslide-39.avi',\n 'newslide-11.avi',\n 'newslide-10.avi',\n 'newslide-38.avi',\n 'textbox-8.avi',\n 'copy-36.avi',\n 'copy-22.avi',\n 'black-24.avi',\n 'medium-84.avi',\n 'centeralign-99.avi',\n 'medium-90.avi',\n 'black-30.avi',\n 'newslide-1.avi',\n 'black-18.avi',\n 'medium-53.avi',\n 'centeralign-72.avi',\n 'centeralign-66.avi',\n 'large-86.avi',\n 'red-22.avi',\n 'cancel-20.avi',\n 'cancel-34.avi',\n 'red-36.avi',\n 'large-92.avi',\n 'textbox-46.avi',\n 'textbox-52.avi',\n 'paste-88.avi',\n 'large-45.avi',\n 'paste-63.avi',\n 'large-51.avi',\n 'large-79.avi',\n 'red-9.avi',\n 'textbox-85.avi',\n 'textbox-91.avi',\n 'large-9.avi',\n 'paste-49.avi',\n 'textbox-93.avi',\n 'paste-61.avi',\n 'paste-75.avi',\n 'large-53.avi',\n 'textbox-44.avi',\n 'textbox-50.avi',\n 'textbox-78.avi',\n 'cancel-22.avi',\n 'red-20.avi',\n 'large-84.avi',\n 'large-90.avi',\n 'red-34.avi',\n 'cancel-36.avi',\n 'centeralign-70.avi',\n 'medium-79.avi',\n 'centeralign-64.avi',\n 'medium-45.avi',\n 'medium-51.avi',\n 'centeralign-58.avi',\n 'newslide-3.avi',\n 'medium-86.avi',\n 'black-26.avi',\n 'black-32.avi',\n 'medium-92.avi',\n 'copy-34.avi',\n 'copy-20.avi',\n 'newslide-12.avi',\n 'newslide-13.avi',\n 'copy-21.avi',\n 'copy-35.avi',\n 'black-33.avi',\n 'medium-93.avi',\n 'newslide-2.avi',\n 'medium-50.avi',\n 'centeralign-59.avi',\n 'medium-44.avi',\n 'centeralign-65.avi',\n 'centeralign-71.avi',\n 'medium-78.avi',\n 'red-35.avi',\n 'large-91.avi',\n 'cancel-23.avi',\n 'textbox-79.avi',\n 'large-85.avi',\n 'red-21.avi',\n 'textbox-51.avi',\n 'textbox-45.avi',\n 'large-52.avi',\n 'paste-74.avi',\n 'large-46.avi',\n 'paste-60.avi',\n 'paste-48.avi',\n 'textbox-92.avi',\n 'textbox-86.avi',\n 'large-63.avi',\n 'paste-45.avi',\n 'paste-51.avi',\n 'paste-79.avi',\n 'paste-86.avi',\n 'textbox-48.avi',\n 'cancel-12.avi',\n 'red-10.avi',\n 'paste-92.avi',\n 'red-38.avi',\n 'textbox-60.avi',\n 'textbox-74.avi',\n 'large-88.avi',\n 'medium-61.avi',\n 'centeralign-68.avi',\n 'medium-75.avi',\n 'centeralign-54.avi',\n 'centeralign-40.avi',\n 'medium-49.avi',\n 'black-16.avi',\n 'centeralign-83.avi',\n 'copy-10.avi',\n 'copy-38.avi',\n 'textbox-6.avi',\n 'newslide-36.avi',\n 'newslide-22.avi',\n 'newslide-23.avi',\n 'copy-39.avi',\n 'copy-11.avi',\n 'centeralign-82.avi',\n 'centeralign-96.avi',\n 'centeralign-41.avi',\n 'medium-48.avi',\n 'centeralign-55.avi',\n 'medium-74.avi',\n 'medium-60.avi',\n 'centeralign-69.avi',\n 'textbox-75.avi',\n 'large-89.avi',\n 'red-39.avi',\n 'textbox-61.avi',\n 'cancel-13.avi',\n 'textbox-49.avi',\n 'paste-93.avi',\n 'red-11.avi',\n 'paste-78.avi',\n 'red-6.avi',\n 'paste-50.avi',\n 'large-76.avi',\n 'paste-44.avi',\n 'large-62.avi',\n 'large-6.avi',\n 'large-74.avi',\n 'paste-52.avi',\n 'textbox-88.avi',\n 'red-4.avi',\n 'large-4.avi',\n 'large-60.avi',\n 'paste-46.avi',\n 'large-48.avi',\n 'red-13.avi',\n 'paste-91.avi',\n 'cancel-11.avi',\n 'paste-85.avi',\n 'textbox-63.avi',\n 'cancel-39.avi',\n 'medium-76.avi',\n 'medium-62.avi',\n 'centeralign-43.avi',\n 'black-15.avi',\n 'medium-89.avi',\n 'black-29.avi',\n 'centeralign-80.avi',\n 'centeralign-94.avi',\n 'copy-13.avi',\n 'textbox-5.avi',\n 'newslide-21.avi',\n 'newslide-35.avi',\n 'newslide-34.avi',\n 'newslide-20.avi',\n 'textbox-4.avi',\n 'copy-12.avi',\n 'centeralign-95.avi',\n 'medium-88.avi',\n 'black-28.avi',\n 'centeralign-81.avi',\n 'black-14.avi',\n 'centeralign-56.avi',\n 'centeralign-42.avi',\n 'medium-63.avi',\n 'cancel-38.avi',\n 'textbox-62.avi',\n 'textbox-76.avi',\n 'paste-84.avi',\n 'paste-90.avi',\n 'red-12.avi',\n 'cancel-10.avi',\n 'large-49.avi',\n 'large-5.avi',\n 'large-61.avi',\n 'paste-53.avi',\n 'large-75.avi',\n 'red-5.avi',\n 'textbox-89.avi',\n 'large-59.avi',\n 'red-1.avi',\n 'large-71.avi',\n 'paste-43.avi',\n 'large-65.avi',\n 'textbox-99.avi',\n 'large-1.avi',\n 'cancel-28.avi',\n 'textbox-72.avi',\n 'textbox-66.avi',\n 'cancel-14.avi',\n 'paste-94.avi',\n 'red-16.avi',\n 'paste-80.avi',\n 'centeralign-46.avi',\n 'centeralign-52.avi',\n 'medium-73.avi',\n 'centeralign-85.avi',\n 'medium-98.avi',\n 'black-38.avi',\n 'centeralign-91.avi',\n 'newslide-9.avi',\n 'black-10.avi',\n 'copy-16.avi',\n 'newslide-18.avi',\n 'newslide-24.avi',\n 'newslide-30.avi',\n 'newslide-31.avi',\n 'newslide-25.avi',\n 'newslide-19.avi',\n 'textbox-1.avi',\n 'black-11.avi',\n 'newslide-8.avi',\n 'medium-99.avi',\n 'black-39.avi',\n 'centeralign-90.avi',\n 'centeralign-84.avi',\n 'medium-66.avi',\n 'medium-72.avi',\n 'centeralign-53.avi',\n 'paste-81.avi',\n 'cancel-15.avi',\n 'paste-95.avi',\n 'textbox-73.avi',\n 'cancel-29.avi',\n 'large-64.avi',\n 'paste-42.avi',\n 'textbox-98.avi',\n 'large-70.avi',\n 'paste-56.avi',\n 'large-58.avi',\n 'paste-68.avi',\n 'large-2.avi',\n 'paste-40.avi',\n 'large-66.avi',\n 'paste-54.avi',\n 'large-72.avi',\n 'red-2.avi',\n 'textbox-65.avi',\n 'large-99.avi',\n 'red-29.avi',\n 'textbox-71.avi',\n 'textbox-59.avi',\n 'paste-83.avi',\n 'red-15.avi',\n 'centeralign-51.avi',\n 'medium-58.avi',\n 'centeralign-45.avi',\n 'medium-64.avi',\n 'medium-70.avi',\n 'centeralign-79.avi',\n 'centeralign-92.avi',\n 'centeralign-86.avi',\n 'black-13.avi',\n 'copy-29.avi',\n 'copy-15.avi',\n 'textbox-3.avi',\n 'newslide-33.avi',\n 'newslide-26.avi',\n 'newslide-32.avi',\n 'textbox-2.avi',\n 'copy-14.avi',\n 'copy-28.avi',\n 'black-12.avi',\n 'centeralign-93.avi',\n 'medium-71.avi',\n 'centeralign-78.avi',\n 'medium-65.avi',\n 'centeralign-44.avi',\n 'centeralign-50.avi',\n 'medium-59.avi',\n 'red-14.avi',\n 'paste-96.avi',\n 'cancel-16.avi',\n 'textbox-58.avi',\n 'paste-82.avi',\n 'red-28.avi',\n 'textbox-70.avi',\n 'textbox-64.avi',\n 'large-98.avi',\n 'large-73.avi',\n 'paste-55.avi',\n 'black-100.avi',\n 'red-3.avi',\n 'large-3.avi',\n 'paste-41.avi',\n 'paste-69.avi',\n 'paste-26.avi',\n 'large-14.avi',\n 'paste-32.avi',\n 'red-98.avi',\n 'large-28.avi',\n 'cancel-65.avi',\n 'red-73.avi',\n 'cancel-71.avi',\n 'cancel-59.avi',\n 'medium-16.avi',\n 'centeralign-23.avi',\n 'black-61.avi',\n 'black-75.avi',\n 'copy-9.avi',\n 'black-49.avi',\n 'copy-73.avi',\n 'medium-8.avi',\n 'copy-98.avi',\n 'newslide-96.avi',\n 'newslide-82.avi',\n 'newslide-55.avi',\n 'newslide-41.avi',\n 'newslide-69.avi',\n 'newslide-68.avi',\n 'newslide-40.avi',\n 'newslide-54.avi',\n 'newslide-83.avi',\n 'copy-99.avi',\n 'medium-9.avi',\n 'copy-66.avi',\n 'copy-72.avi',\n 'centeralign-6.avi',\n 'black-48.avi',\n 'copy-8.avi',\n 'black-74.avi',\n 'black-60.avi',\n 'centeralign-22.avi',\n 'centeralign-36.avi',\n 'textbox-16.avi',\n 'paste-6.avi',\n 'cancel-58.avi',\n 'red-72.avi',\n 'cancel-70.avi',\n 'cancel-64.avi',\n 'red-66.avi',\n 'large-29.avi',\n 'red-99.avi',\n 'paste-33.avi',\n 'large-15.avi',\n 'paste-31.avi',\n 'paste-25.avi',\n 'paste-19.avi',\n 'cancel-99.avi',\n 'cancel-72.avi',\n 'textbox-28.avi',\n 'red-70.avi',\n 'red-64.avi',\n 'cancel-66.avi',\n 'paste-4.avi',\n 'textbox-14.avi',\n 'red-58.avi',\n 'medium-15.avi',\n 'centeralign-20.avi',\n 'medium-29.avi',\n 'black-89.avi',\n 'centeralign-34.avi',\n 'black-76.avi',\n 'black-62.avi',\n 'centeralign-4.avi',\n 'copy-100.avi',\n 'copy-64.avi',\n 'copy-70.avi',\n 'copy-58.avi',\n 'newslide-81.avi',\n 'newslide-95.avi',\n 'newslide-42.avi',\n 'newslide-56.avi',\n 'newslide-43.avi',\n 'newslide-94.avi',\n 'newslide-80.avi',\n 'copy-59.avi',\n 'copy-71.avi',\n 'copy-65.avi',\n 'centeralign-5.avi',\n 'black-63.avi',\n 'centeralign-35.avi',\n 'centeralign-21.avi',\n 'medium-28.avi',\n 'black-88.avi',\n 'medium-14.avi',\n 'red-59.avi',\n 'paste-5.avi',\n 'textbox-15.avi',\n 'red-65.avi',\n 'textbox-29.avi',\n 'cancel-73.avi',\n 'red-71.avi',\n 'paste-18.avi',\n 'cancel-98.avi',\n 'paste-24.avi',\n 'paste-30.avi',\n 'large-16.avi',\n 'cancel-88.avi',\n 'paste-34.avi',\n 'large-12.avi',\n 'paste-20.avi',\n 'red-49.avi',\n 'textbox-11.avi',\n 'paste-1.avi',\n 'black-9.avi',\n 'red-75.avi',\n 'textbox-39.avi',\n 'cancel-63.avi',\n 'red-61.avi',\n 'centeralign-25.avi',\n 'centeralign-31.avi',\n 'medium-38.avi',\n 'black-98.avi',\n 'medium-10.avi',\n 'centeralign-19.avi',\n 'centeralign-1.avi',\n 'black-73.avi',\n 'copy-49.avi',\n 'copy-61.avi',\n 'copy-75.avi',\n 'cancel-100.avi',\n 'newslide-84.avi',\n 'newslide-90.avi',\n 'newslide-53.avi',\n 'newslide-52.avi',\n 'newslide-46.avi',\n 'newslide-91.avi',\n 'newslide-85.avi',\n 'copy-74.avi',\n 'copy-60.avi',\n 'copy-48.avi',\n 'black-66.avi',\n 'black-72.avi',\n 'medium-11.avi',\n 'centeralign-18.avi',\n 'centeralign-30.avi',\n 'medium-39.avi',\n 'black-99.avi',\n 'centeralign-24.avi',\n 'cancel-62.avi',\n 'textbox-38.avi',\n 'red-60.avi',\n 'red-74.avi',\n 'cancel-76.avi',\n 'black-8.avi',\n 'red-48.avi',\n 'textbox-10.avi',\n 'paste-21.avi',\n 'large-13.avi',\n 'paste-35.avi',\n 'cancel-89.avi',\n 'large-39.avi',\n 'red-89.avi',\n 'paste-23.avi',\n 'large-11.avi',\n 'paste-2.avi',\n 'textbox-12.avi',\n 'cancel-48.avi',\n 'red-62.avi',\n 'cancel-60.avi',\n 'cancel-74.avi',\n 'red-76.avi',\n 'centeralign-32.avi',\n 'centeralign-26.avi',\n 'medium-13.avi',\n 'black-58.avi',\n 'centeralign-2.avi',\n 'black-64.avi',\n 'black-70.avi',\n 'copy-76.avi',\n 'copy-62.avi',\n 'copy-89.avi',\n 'newslide-93.avi',\n 'cancel-9.avi',\n 'newslide-78.avi',\n 'newslide-50.avi',\n 'newslide-44.avi',\n 'newslide-45.avi',\n 'newslide-51.avi',\n 'newslide-79.avi',\n 'cancel-8.avi',\n 'newslide-86.avi',\n 'newslide-92.avi',\n 'copy-88.avi',\n 'copy-63.avi',\n 'black-71.avi',\n 'black-65.avi',\n 'centeralign-3.avi',\n 'black-59.avi',\n 'medium-12.avi',\n 'centeralign-33.avi',\n 'cancel-75.avi',\n 'red-63.avi',\n 'cancel-61.avi',\n 'cancel-49.avi',\n 'paste-3.avi',\n 'textbox-13.avi',\n 'large-10.avi',\n 'paste-36.avi',\n 'paste-22.avi',\n 'red-88.avi',\n 'large-38.avi']"
     },
     "metadata": {},
     "execution_count": 11
    }
   ],
   "source": [
    "from pathlib import Path\n",
    "os.listdir(Path('./100')/'train')"
   ]
  },
  {
   "cell_type": "code",
   "execution_count": null,
   "metadata": {},
   "outputs": [],
   "source": []
  }
 ],
 "metadata": {
  "language_info": {
   "codemirror_mode": {
    "name": "ipython",
    "version": 3
   },
   "file_extension": ".py",
   "mimetype": "text/x-python",
   "name": "python",
   "nbconvert_exporter": "python",
   "pygments_lexer": "ipython3",
   "version": "3.8.2-final"
  },
  "orig_nbformat": 2,
  "kernelspec": {
   "name": "python38264bit8fc386767f5342a8a561d4fed70b47ff",
   "display_name": "Python 3.8.2 64-bit"
  }
 },
 "nbformat": 4,
 "nbformat_minor": 2
}